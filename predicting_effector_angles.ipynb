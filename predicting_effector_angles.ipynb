{
  "cells": [
    {
      "cell_type": "markdown",
      "metadata": {
        "id": "view-in-github",
        "colab_type": "text"
      },
      "source": [
        "<a href=\"https://colab.research.google.com/github/Sebukpor/project-sebukpor/blob/main/predicting_effector_angles.ipynb\" target=\"_parent\"><img src=\"https://colab.research.google.com/assets/colab-badge.svg\" alt=\"Open In Colab\"/></a>"
      ]
    },
    {
      "cell_type": "code",
      "execution_count": 47,
      "metadata": {
        "id": "hlK2Rnkxv6o3"
      },
      "outputs": [],
      "source": [
        "import tensorflow as tf\n",
        "from tensorflow import keras\n",
        "from tensorflow.keras.metrics import categorical_crossentropy\n",
        "from tensorflow.keras.models import Sequential\n",
        "from tensorflow.keras.layers import Activation, Dense\n",
        "from tensorflow.keras.optimizers import Adam\n",
        "import pandas as pd\n",
        "import numpy as np\n",
        "import sklearn\n",
        "from sklearn import svm\n",
        "from sklearn.preprocessing import StandardScaler"
      ]
    },
    {
      "cell_type": "code",
      "execution_count": 48,
      "metadata": {
        "colab": {
          "base_uri": "https://localhost:8080/"
        },
        "id": "77FsTnF02in7",
        "outputId": "e0eea724-062c-49bd-9db0-21d046b550c3"
      },
      "outputs": [
        {
          "output_type": "stream",
          "name": "stdout",
          "text": [
            "                                                    JointAngle1  JointAngle2  \\\n",
            "-0.88254 2.1659  1.25370  3.82890  0.37542 -5.4401    -0.516810      0.88886   \n",
            " 0.63053 1.6022  1.61690  2.36320 -1.04630 -1.7015    -0.664540      0.05001   \n",
            " 0.85788 2.5143  2.47530  0.85839 -0.53443 -5.4392    -2.069200     -1.97410   \n",
            " 0.68397 2.8924 -0.15305 -3.94820 -0.81534  5.4264    -0.716570     -0.10199   \n",
            " 2.24920 2.5581 -1.10640  2.13620  1.87980  2.7333     0.069533      0.82531   \n",
            "\n",
            "                                                    JointAngle3  JointAngle4  \\\n",
            "-0.88254 2.1659  1.25370  3.82890  0.37542 -5.4401      4.00790      0.79437   \n",
            " 0.63053 1.6022  1.61690  2.36320 -1.04630 -1.7015      3.95280     -0.20176   \n",
            " 0.85788 2.5143  2.47530  0.85839 -0.53443 -5.4392      0.96334      0.44964   \n",
            " 0.68397 2.8924 -0.15305 -3.94820 -0.81534  5.4264      3.22820      0.51233   \n",
            " 2.24920 2.5581 -1.10640  2.13620  1.87980  2.7333      1.15990     -0.49078   \n",
            "\n",
            "                                                    JointAngle5  JointAngle6  \\\n",
            "-0.88254 2.1659  1.25370  3.82890  0.37542 -5.4401      0.56086    -0.233270   \n",
            " 0.63053 1.6022  1.61690  2.36320 -1.04630 -1.7015     -0.96459    -0.169890   \n",
            " 0.85788 2.5143  2.47530  0.85839 -0.53443 -5.4392     -0.88847     0.091861   \n",
            " 0.68397 2.8924 -0.15305 -3.94820 -0.81534  5.4264     -0.67524     0.530630   \n",
            " 2.24920 2.5581 -1.10640  2.13620  1.87980  2.7333      0.64548    -0.585240   \n",
            "\n",
            "                                                    X_Position  Y_Position  \\\n",
            "-0.88254 2.1659  1.25370  3.82890  0.37542 -5.4401   -0.576760     0.81691   \n",
            " 0.63053 1.6022  1.61690  2.36320 -1.04630 -1.7015    0.417650    -0.24162   \n",
            " 0.85788 2.5143  2.47530  0.85839 -0.53443 -5.4392    0.034581     0.12008   \n",
            " 0.68397 2.8924 -0.15305 -3.94820 -0.81534  5.4264    0.709880     0.68071   \n",
            " 2.24920 2.5581 -1.10640  2.13620  1.87980  2.7333    0.173550     0.73065   \n",
            "\n",
            "                                                    Z_Position  \\\n",
            "-0.88254 2.1659  1.25370  3.82890  0.37542 -5.4401    0.000052   \n",
            " 0.63053 1.6022  1.61690  2.36320 -1.04630 -1.7015    0.875890   \n",
            " 0.85788 2.5143  2.47530  0.85839 -0.53443 -5.4392    0.992160   \n",
            " 0.68397 2.8924 -0.15305 -3.94820 -0.81534  5.4264    0.180820   \n",
            " 2.24920 2.5581 -1.10640  2.13620  1.87980  2.7333    0.660320   \n",
            "\n",
            "                                                    RotationElement1  \\\n",
            "-0.88254 2.1659  1.25370  3.82890  0.37542 -5.4401           0.19059   \n",
            " 0.63053 1.6022  1.61690  2.36320 -1.04630 -1.7015          -0.88593   \n",
            " 0.85788 2.5143  2.47530  0.85839 -0.53443 -5.4392          -0.89254   \n",
            " 0.68397 2.8924 -0.15305 -3.94820 -0.81534  5.4264          -0.48330   \n",
            " 2.24920 2.5581 -1.10640  2.13620  1.87980  2.7333           0.85383   \n",
            "\n",
            "                                                    RotationElement2  \\\n",
            "-0.88254 2.1659  1.25370  3.82890  0.37542 -5.4401           0.13450   \n",
            " 0.63053 1.6022  1.61690  2.36320 -1.04630 -1.7015           0.10577   \n",
            " 0.85788 2.5143  2.47530  0.85839 -0.53443 -5.4392          -0.44294   \n",
            " 0.68397 2.8924 -0.15305 -3.94820 -0.81534  5.4264           0.28404   \n",
            " 2.24920 2.5581 -1.10640  2.13620  1.87980  2.7333           0.22251   \n",
            "\n",
            "                                                    RotationElement3  \n",
            "-0.88254 2.1659  1.25370  3.82890  0.37542 -5.4401          0.972410  \n",
            " 0.63053 1.6022  1.61690  2.36320 -1.04630 -1.7015          0.451600  \n",
            " 0.85788 2.5143  2.47530  0.85839 -0.53443 -5.4392          0.084718  \n",
            " 0.68397 2.8924 -0.15305 -3.94820 -0.81534  5.4264          0.828090  \n",
            " 2.24920 2.5581 -1.10640  2.13620  1.87980  2.7333         -0.470610  \n"
          ]
        }
      ],
      "source": [
        "import pandas as pd\n",
        "\n",
        "# Define column names\n",
        "column_names = ['JointAngle1', 'JointAngle2', 'JointAngle3', 'JointAngle4', 'JointAngle5', 'JointAngle6',\n",
        "                'X_Position', 'Y_Position', 'Z_Position', 'RotationElement1', 'RotationElement2', 'RotationElement3']\n",
        "\n",
        "# Load the dataset with specified column names\n",
        "data = pd.read_csv('/content/random.csv', names=column_names)\n",
        "\n",
        "# Display the first few rows of the dataset to verify column names\n",
        "print(data.head())"
      ]
    },
    {
      "cell_type": "code",
      "execution_count": 38,
      "metadata": {
        "id": "jA38n-ft2MO9"
      },
      "outputs": [],
      "source": [
        "# Create a StandardScaler object\n",
        "scaler = StandardScaler()"
      ]
    },
    {
      "cell_type": "code",
      "source": [
        "X_scaled = scaler.fit_transform(X)\n",
        "Y_scaled = scaler.fit_transform(Y)"
      ],
      "metadata": {
        "id": "-iQi6NCnN7hZ"
      },
      "execution_count": 39,
      "outputs": []
    },
    {
      "cell_type": "code",
      "source": [
        "print(X_scaled)"
      ],
      "metadata": {
        "colab": {
          "base_uri": "https://localhost:8080/"
        },
        "id": "eoB67Cp-QLBf",
        "outputId": "fa6ec8f4-4600-4987-af04-3f304df6d75d"
      },
      "execution_count": 41,
      "outputs": [
        {
          "output_type": "stream",
          "name": "stdout",
          "text": [
            "[[-0.41884726  0.6585858   1.42120276 ...  0.33867712  0.22694369\n",
            "   1.55316382]\n",
            " [-0.53354971  0.04455869  1.37926961 ... -1.53773351  0.17735593\n",
            "   0.64429407]\n",
            " [-1.62417412 -1.43706308 -0.89582058 ... -1.54925497 -0.76971332\n",
            "   0.00404532]\n",
            " ...\n",
            " [-0.33567576 -0.38656689  0.8221904  ... -0.63911249 -1.55431491\n",
            "  -0.56143603]\n",
            " [-0.1236319  -0.26515224  1.58246653 ... -0.69595282 -0.57902569\n",
            "   1.34423948]\n",
            " [-0.27289338 -0.7380157  -1.597076   ...  1.3538548   1.08940479\n",
            "  -0.17174291]]\n"
          ]
        }
      ]
    },
    {
      "cell_type": "code",
      "source": [
        "print(Y_scaled)"
      ],
      "metadata": {
        "colab": {
          "base_uri": "https://localhost:8080/"
        },
        "id": "XEUNnEUYQQa7",
        "outputId": "754ff33a-a3d7-47d8-c8ad-c8d174632d51"
      },
      "execution_count": 42,
      "outputs": [
        {
          "output_type": "stream",
          "name": "stdout",
          "text": [
            "[[-1.00433649  1.4170759  -0.02485037]\n",
            " [ 0.70032948 -0.44121524  1.48870839]\n",
            " [ 0.04365398  0.19376337  1.68963776]\n",
            " ...\n",
            " [-1.16727582  0.74970759 -1.05881055]\n",
            " [-0.82134045  1.51838808  0.1804987 ]\n",
            " [ 0.9035708  -1.14002526  0.92675594]]\n"
          ]
        }
      ]
    },
    {
      "cell_type": "code",
      "source": [
        "mean_values = scaler.mean_\n",
        "scale_values = scaler.scale_\n",
        "\n",
        "print(\"Mean Values:\", mean_values)\n",
        "print(\"Scale Values:\", scale_values)"
      ],
      "metadata": {
        "id": "HDRutk3fOcPr",
        "colab": {
          "base_uri": "https://localhost:8080/"
        },
        "outputId": "a43d1557-8206-4fc7-bf0f-8fe5c10516c5"
      },
      "execution_count": 43,
      "outputs": [
        {
          "output_type": "stream",
          "name": "stdout",
          "text": [
            "Mean Values: [0.00911563 0.00970745 0.01443243]\n",
            "Scale Values: [0.58334595 0.56962549 0.57866106]\n"
          ]
        }
      ]
    },
    {
      "cell_type": "code",
      "source": [
        "# Define your neural network model with a name\n",
        "model = tf.keras.Sequential(name=\"my_end_effector_prediction\")\n",
        "\n",
        "# Determine the input size based on the number of features in your dataset\n",
        "input_size = X_scaled.shape[1]  # Use X_scaled shape\n",
        "print(\"Input size:\", input_size)\n",
        "\n",
        "# Add layers to the model\n",
        "model.add(tf.keras.layers.Dense(units=128, input_shape=(input_size,), activation='relu'))\n",
        "model.add(tf.keras.layers.Dropout(0.3))  # Adjust dropout rate\n",
        "model.add(tf.keras.layers.Dense(units=128, activation='relu'))\n",
        "model.add(tf.keras.layers.Dropout(0.3))  # Adjust dropout rate\n",
        "model.add(tf.keras.layers.Dense(units=3, activation='linear'))  # Use linear activation for regression\n",
        "\n",
        "# Compile the model\n",
        "model.compile(optimizer='adam',\n",
        "              loss='mean_squared_error',  # Use mean squared error for regression\n",
        "              metrics=['mae'])  # Monitor mean absolute error\n",
        "\n",
        "# Fit the model to the training data\n",
        "history = model.fit(X_scaled, Y_scaled, epochs=30, batch_size=64, validation_split=0.2)  # Adjust epochs and batch size\n",
        "\n",
        "# Print the training history\n",
        "print(history.history.keys())\n",
        "\n",
        "# Print the final training and validation accuracy\n",
        "train_mae = history.history['mae'][-1]\n",
        "val_mae = history.history['val_mae'][-1]\n",
        "print(\"Final training MAE:\", train_mae)\n",
        "print(\"Final validation MAE:\", val_mae)\n",
        "\n",
        "# Save the model to a file\n",
        "model.save('my_end_effector_prediction')\n"
      ],
      "metadata": {
        "id": "r1jDt6_iNeaj",
        "colab": {
          "base_uri": "https://localhost:8080/"
        },
        "outputId": "aa242564-1adb-435c-fdfb-fb5d1d32a877"
      },
      "execution_count": 44,
      "outputs": [
        {
          "output_type": "stream",
          "name": "stdout",
          "text": [
            "Input size: 9\n",
            "Epoch 1/30\n",
            "63/63 [==============================] - 1s 6ms/step - loss: 0.6894 - mae: 0.6906 - val_loss: 0.1933 - val_mae: 0.3636\n",
            "Epoch 2/30\n",
            "63/63 [==============================] - 0s 4ms/step - loss: 0.2538 - mae: 0.4034 - val_loss: 0.0500 - val_mae: 0.1767\n",
            "Epoch 3/30\n",
            "63/63 [==============================] - 0s 5ms/step - loss: 0.1854 - mae: 0.3425 - val_loss: 0.0341 - val_mae: 0.1519\n",
            "Epoch 4/30\n",
            "63/63 [==============================] - 0s 5ms/step - loss: 0.1554 - mae: 0.3138 - val_loss: 0.0269 - val_mae: 0.1367\n",
            "Epoch 5/30\n",
            "63/63 [==============================] - 0s 4ms/step - loss: 0.1350 - mae: 0.2943 - val_loss: 0.0211 - val_mae: 0.1204\n",
            "Epoch 6/30\n",
            "63/63 [==============================] - 0s 3ms/step - loss: 0.1273 - mae: 0.2843 - val_loss: 0.0162 - val_mae: 0.1033\n",
            "Epoch 7/30\n",
            "63/63 [==============================] - 0s 4ms/step - loss: 0.1194 - mae: 0.2753 - val_loss: 0.0206 - val_mae: 0.1198\n",
            "Epoch 8/30\n",
            "63/63 [==============================] - 0s 3ms/step - loss: 0.1150 - mae: 0.2698 - val_loss: 0.0183 - val_mae: 0.1147\n",
            "Epoch 9/30\n",
            "63/63 [==============================] - 0s 4ms/step - loss: 0.1087 - mae: 0.2625 - val_loss: 0.0163 - val_mae: 0.1074\n",
            "Epoch 10/30\n",
            "63/63 [==============================] - 0s 4ms/step - loss: 0.1076 - mae: 0.2605 - val_loss: 0.0142 - val_mae: 0.1009\n",
            "Epoch 11/30\n",
            "63/63 [==============================] - 0s 5ms/step - loss: 0.1028 - mae: 0.2559 - val_loss: 0.0148 - val_mae: 0.1032\n",
            "Epoch 12/30\n",
            "63/63 [==============================] - 0s 5ms/step - loss: 0.1002 - mae: 0.2533 - val_loss: 0.0145 - val_mae: 0.1017\n",
            "Epoch 13/30\n",
            "63/63 [==============================] - 0s 5ms/step - loss: 0.0986 - mae: 0.2505 - val_loss: 0.0126 - val_mae: 0.0950\n",
            "Epoch 14/30\n",
            "63/63 [==============================] - 0s 5ms/step - loss: 0.0927 - mae: 0.2430 - val_loss: 0.0131 - val_mae: 0.0979\n",
            "Epoch 15/30\n",
            "63/63 [==============================] - 0s 5ms/step - loss: 0.0907 - mae: 0.2391 - val_loss: 0.0142 - val_mae: 0.1012\n",
            "Epoch 16/30\n",
            "63/63 [==============================] - 0s 5ms/step - loss: 0.0892 - mae: 0.2371 - val_loss: 0.0129 - val_mae: 0.0972\n",
            "Epoch 17/30\n",
            "63/63 [==============================] - 0s 5ms/step - loss: 0.0875 - mae: 0.2361 - val_loss: 0.0136 - val_mae: 0.0994\n",
            "Epoch 18/30\n",
            "63/63 [==============================] - 0s 5ms/step - loss: 0.0876 - mae: 0.2348 - val_loss: 0.0133 - val_mae: 0.0983\n",
            "Epoch 19/30\n",
            "63/63 [==============================] - 0s 4ms/step - loss: 0.0840 - mae: 0.2307 - val_loss: 0.0149 - val_mae: 0.1028\n",
            "Epoch 20/30\n",
            "63/63 [==============================] - 0s 4ms/step - loss: 0.0832 - mae: 0.2298 - val_loss: 0.0127 - val_mae: 0.0959\n",
            "Epoch 21/30\n",
            "63/63 [==============================] - 0s 5ms/step - loss: 0.0848 - mae: 0.2318 - val_loss: 0.0110 - val_mae: 0.0900\n",
            "Epoch 22/30\n",
            "63/63 [==============================] - 0s 6ms/step - loss: 0.0817 - mae: 0.2261 - val_loss: 0.0105 - val_mae: 0.0854\n",
            "Epoch 23/30\n",
            "63/63 [==============================] - 0s 5ms/step - loss: 0.0789 - mae: 0.2237 - val_loss: 0.0104 - val_mae: 0.0852\n",
            "Epoch 24/30\n",
            "63/63 [==============================] - 0s 6ms/step - loss: 0.0790 - mae: 0.2238 - val_loss: 0.0120 - val_mae: 0.0928\n",
            "Epoch 25/30\n",
            "63/63 [==============================] - 0s 6ms/step - loss: 0.0779 - mae: 0.2219 - val_loss: 0.0133 - val_mae: 0.0977\n",
            "Epoch 26/30\n",
            "63/63 [==============================] - 0s 7ms/step - loss: 0.0765 - mae: 0.2193 - val_loss: 0.0099 - val_mae: 0.0834\n",
            "Epoch 27/30\n",
            "63/63 [==============================] - 0s 8ms/step - loss: 0.0749 - mae: 0.2177 - val_loss: 0.0106 - val_mae: 0.0856\n",
            "Epoch 28/30\n",
            "63/63 [==============================] - 0s 7ms/step - loss: 0.0762 - mae: 0.2189 - val_loss: 0.0122 - val_mae: 0.0924\n",
            "Epoch 29/30\n",
            "63/63 [==============================] - 0s 8ms/step - loss: 0.0720 - mae: 0.2133 - val_loss: 0.0105 - val_mae: 0.0859\n",
            "Epoch 30/30\n",
            "63/63 [==============================] - 0s 6ms/step - loss: 0.0736 - mae: 0.2157 - val_loss: 0.0126 - val_mae: 0.0955\n",
            "dict_keys(['loss', 'mae', 'val_loss', 'val_mae'])\n",
            "Final training MAE: 0.21574093401432037\n",
            "Final validation MAE: 0.09547505527734756\n"
          ]
        }
      ]
    },
    {
      "cell_type": "code",
      "source": [
        "import numpy as np\n",
        "import tensorflow as tf\n",
        "\n",
        "# Load the trained model\n",
        "model = tf.keras.models.load_model('my_end_effector_prediction')\n",
        "\n",
        "# Function to preprocess user input\n",
        "def preprocess_input(input_data):\n",
        "    # Perform any necessary preprocessing, such as scaling or normalization\n",
        "    # Make sure to apply the same preprocessing steps used during training\n",
        "\n",
        "    # If data is already preprocessed\n",
        "    scaled_input = input_data\n",
        "    return scaled_input\n",
        "\n",
        "# Function to predict end-effector positions\n",
        "def predict_end_effector_position(input_data):\n",
        "    # Preprocess the input data\n",
        "    scaled_input = preprocess_input(input_data)\n",
        "\n",
        "    # Make predictions using the trained model\n",
        "    predictions = model.predict(scaled_input)\n",
        "\n",
        "    # Return the predicted end-effector positions\n",
        "    return predictions\n",
        "\n",
        "# input joint angles and rotation effect to predict your end-effector postions\n",
        "if __name__ == \"__main__\":\n",
        "    # Adjusting  the input shape to match the model's input size (9 features)\n",
        "    user_input =np.array([[0.88254, 2.1659, -0.23327, -0.57676, 0.81691, 5.25E-05, 0.19059, 0.1345, 0.97241]])\n",
        "\n",
        "\n",
        "    # Predict end-effector positions\n",
        "    predicted_positions = predict_end_effector_position(user_input)\n",
        "\n",
        "    # Print the predicted positions\n",
        "    print(\"Predicted end-effector positions based on your inputs :\")\n",
        "    print(predicted_positions)\n"
      ],
      "metadata": {
        "colab": {
          "base_uri": "https://localhost:8080/"
        },
        "id": "F5KwPdqnQa_A",
        "outputId": "236d99ff-a2de-461b-a9d6-c0280dac3efa"
      },
      "execution_count": 46,
      "outputs": [
        {
          "output_type": "stream",
          "name": "stdout",
          "text": [
            "1/1 [==============================] - 0s 65ms/step\n",
            "Predicted end-effector positions:\n",
            "[[-0.8041317  -0.63412154  0.14666814]]\n"
          ]
        }
      ]
    }
  ],
  "metadata": {
    "colab": {
      "provenance": [],
      "authorship_tag": "ABX9TyOqtDM2t7oXwHXeyQauzz0A",
      "include_colab_link": true
    },
    "kernelspec": {
      "display_name": "Python 3",
      "name": "python3"
    },
    "language_info": {
      "name": "python"
    }
  },
  "nbformat": 4,
  "nbformat_minor": 0
}